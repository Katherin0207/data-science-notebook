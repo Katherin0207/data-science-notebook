{
 "cells": [
  {
   "cell_type": "markdown",
   "metadata": {},
   "source": [
    "# My Data Science Notebook"
   ]
  },
  {
   "cell_type": "markdown",
   "metadata": {},
   "source": [
    "## Introduction\n",
    "This notebook contains examples and exercises on data science using JupyterLite."
   ]
  },
  {
   "cell_type": "markdown",
   "metadata": {},
   "source": [
    "## Data Science Languages\n",
    "- Python\n",
    "- R\n",
    "- SQL\n",
    "- Julia\n",
    "- Scala"
   ]
  },
  {
   "cell_type": "markdown",
   "metadata": {},
   "source": [
    "## Data Science Libraries\n",
    "- NumPy\n",
    "- Pandas\n",
    "- Matplotlib\n",
    "- Scikit-learn\n",
    "- TensorFlow"
   ]
  },
  {
   "cell_type": "markdown",
   "metadata": {},
   "source": [
    "## Data Science Tools\n",
    "| Tool         | Description                          |\n",
    "|--------------|--------------------------------------|\n",
    "| JupyterLite  | Interactive environment for notebooks|\n",
    "| RStudio      | IDE for R                            |\n",
    "| GitHub       | Version control and collaboration    |"
   ]
  },
  {
   "cell_type": "markdown",
   "metadata": {},
   "source": [
    "## Examples of Arithmetic Expressions\n",
    "- Addition: `1 + 1 = 2`\n",
    "- Subtraction: `5 - 3 = 2`\n",
    "- Multiplication: `4 * 2 = 8`\n",
    "- Division: `10 / 2 = 5`"
   ]
  },
  {
   "cell_type": "code",
   "execution_count": 9,
   "metadata": {},
   "outputs": [
    {
     "name": "stdout",
     "output_type": "stream",
     "text": [
      "Multiplication: 12\n",
      "Sum: 7\n"
     ]
    }
   ],
   "source": [
    "# Multiply and add numbers\n",
    "a = 4\n",
    "b = 3\n",
    "multiplication = a * b\n",
    "sum = a + b\n",
    "print(f'Multiplication: {multiplication}')\n",
    "print(f'Sum: {sum}')"
   ]
  },
  {
   "cell_type": "code",
   "execution_count": 6,
   "metadata": {},
   "outputs": [
    {
     "name": "stdout",
     "output_type": "stream",
     "text": [
      "120 minutos son 2.0 horas\n"
     ]
    }
   ],
   "source": [
    "# Convertir minutos a horas\n",
    "minutos = 120\n",
    "horas = minutos / 60\n",
    "print(f'{minutos} minutos son {horas} horas')"
   ]
  },
  {
   "cell_type": "markdown",
   "metadata": {},
   "source": [
    "## Objectives\n",
    "1. Learn basic data science concepts\n",
    "2. Use JupyterLite for data analysis\n",
    "3. Share knowledge through GitHub"
   ]
  },
  {
   "cell_type": "markdown",
   "metadata": {},
   "source": [
    "## Author\n",
    "Katherin Chavez Quenhua"
   ]
  },
  {
   "cell_type": "code",
   "execution_count": null,
   "metadata": {},
   "outputs": [],
   "source": []
  }
 ],
 "metadata": {
  "kernelspec": {
   "display_name": "Python 3 (ipykernel)",
   "language": "python",
   "name": "python3"
  },
  "language_info": {
   "codemirror_mode": {
    "name": "ipython",
    "version": 3
   },
   "file_extension": ".py",
   "mimetype": "text/x-python",
   "name": "python",
   "nbconvert_exporter": "python",
   "pygments_lexer": "ipython3",
   "version": "3.12.8"
  }
 },
 "nbformat": 4,
 "nbformat_minor": 4
}
